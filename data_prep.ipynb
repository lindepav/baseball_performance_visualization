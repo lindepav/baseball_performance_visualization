{
 "cells": [
  {
   "cell_type": "markdown",
   "metadata": {
    "collapsed": true,
    "pycharm": {
     "is_executing": true
    }
   },
   "source": [
    "## Imports"
   ]
  },
  {
   "cell_type": "code",
   "execution_count": 6,
   "metadata": {},
   "outputs": [],
   "source": [
    "import numpy as np\n",
    "import pandas as pd\n",
    "import matplotlib.pyplot as plt\n",
    "\n",
    "pd.set_option('display.max_columns', None)"
   ]
  },
  {
   "cell_type": "markdown",
   "metadata": {},
   "source": []
  },
  {
   "cell_type": "markdown",
   "metadata": {},
   "source": [
    "## Data import + basic exploration"
   ]
  },
  {
   "cell_type": "code",
   "execution_count": 113,
   "metadata": {},
   "outputs": [],
   "source": [
    "data_folder = './data/core/'\n",
    "batting_df = pd.read_csv(data_folder + 'Batting.csv')\n",
    "pitching_df = pd.read_csv(data_folder + 'Pitching.csv')\n",
    "fielding_df = pd.read_csv(data_folder + 'Fielding.csv')\n",
    "player_names = pd.read_csv(data_folder + 'People.csv')\n",
    "team_names = pd.read_csv(data_folder + 'Teams.csv')"
   ]
  },
  {
   "cell_type": "code",
   "execution_count": 114,
   "metadata": {},
   "outputs": [],
   "source": [
    "player_names['player_fn'] = player_names['nameFirst'] + ' ' + player_names['nameLast']"
   ]
  },
  {
   "cell_type": "code",
   "execution_count": 115,
   "metadata": {},
   "outputs": [
    {
     "name": "stdout",
     "output_type": "stream",
     "text": [
      "Batting table has 112184 rows and 22 attributes.\n",
      "Showing the first few rows:\n"
     ]
    },
    {
     "data": {
      "text/html": [
       "<div>\n",
       "<style scoped>\n",
       "    .dataframe tbody tr th:only-of-type {\n",
       "        vertical-align: middle;\n",
       "    }\n",
       "\n",
       "    .dataframe tbody tr th {\n",
       "        vertical-align: top;\n",
       "    }\n",
       "\n",
       "    .dataframe thead th {\n",
       "        text-align: right;\n",
       "    }\n",
       "</style>\n",
       "<table border=\"1\" class=\"dataframe\">\n",
       "  <thead>\n",
       "    <tr style=\"text-align: right;\">\n",
       "      <th></th>\n",
       "      <th>playerID</th>\n",
       "      <th>yearID</th>\n",
       "      <th>stint</th>\n",
       "      <th>teamID</th>\n",
       "      <th>lgID</th>\n",
       "      <th>G</th>\n",
       "      <th>AB</th>\n",
       "      <th>R</th>\n",
       "      <th>H</th>\n",
       "      <th>2B</th>\n",
       "      <th>3B</th>\n",
       "      <th>HR</th>\n",
       "      <th>RBI</th>\n",
       "      <th>SB</th>\n",
       "      <th>CS</th>\n",
       "      <th>BB</th>\n",
       "      <th>SO</th>\n",
       "      <th>IBB</th>\n",
       "      <th>HBP</th>\n",
       "      <th>SH</th>\n",
       "      <th>SF</th>\n",
       "      <th>GIDP</th>\n",
       "    </tr>\n",
       "  </thead>\n",
       "  <tbody>\n",
       "    <tr>\n",
       "      <th>0</th>\n",
       "      <td>abercda01</td>\n",
       "      <td>1871</td>\n",
       "      <td>1</td>\n",
       "      <td>TRO</td>\n",
       "      <td>NaN</td>\n",
       "      <td>1</td>\n",
       "      <td>4</td>\n",
       "      <td>0</td>\n",
       "      <td>0</td>\n",
       "      <td>0</td>\n",
       "      <td>0</td>\n",
       "      <td>0</td>\n",
       "      <td>0.0</td>\n",
       "      <td>0.0</td>\n",
       "      <td>0.0</td>\n",
       "      <td>0</td>\n",
       "      <td>0.0</td>\n",
       "      <td>NaN</td>\n",
       "      <td>NaN</td>\n",
       "      <td>NaN</td>\n",
       "      <td>NaN</td>\n",
       "      <td>0.0</td>\n",
       "    </tr>\n",
       "    <tr>\n",
       "      <th>1</th>\n",
       "      <td>addybo01</td>\n",
       "      <td>1871</td>\n",
       "      <td>1</td>\n",
       "      <td>RC1</td>\n",
       "      <td>NaN</td>\n",
       "      <td>25</td>\n",
       "      <td>118</td>\n",
       "      <td>30</td>\n",
       "      <td>32</td>\n",
       "      <td>6</td>\n",
       "      <td>0</td>\n",
       "      <td>0</td>\n",
       "      <td>13.0</td>\n",
       "      <td>8.0</td>\n",
       "      <td>1.0</td>\n",
       "      <td>4</td>\n",
       "      <td>0.0</td>\n",
       "      <td>NaN</td>\n",
       "      <td>NaN</td>\n",
       "      <td>NaN</td>\n",
       "      <td>NaN</td>\n",
       "      <td>0.0</td>\n",
       "    </tr>\n",
       "    <tr>\n",
       "      <th>2</th>\n",
       "      <td>allisar01</td>\n",
       "      <td>1871</td>\n",
       "      <td>1</td>\n",
       "      <td>CL1</td>\n",
       "      <td>NaN</td>\n",
       "      <td>29</td>\n",
       "      <td>137</td>\n",
       "      <td>28</td>\n",
       "      <td>40</td>\n",
       "      <td>4</td>\n",
       "      <td>5</td>\n",
       "      <td>0</td>\n",
       "      <td>19.0</td>\n",
       "      <td>3.0</td>\n",
       "      <td>1.0</td>\n",
       "      <td>2</td>\n",
       "      <td>5.0</td>\n",
       "      <td>NaN</td>\n",
       "      <td>NaN</td>\n",
       "      <td>NaN</td>\n",
       "      <td>NaN</td>\n",
       "      <td>1.0</td>\n",
       "    </tr>\n",
       "  </tbody>\n",
       "</table>\n",
       "</div>"
      ],
      "text/plain": [
       "    playerID  yearID  stint teamID lgID   G   AB   R   H  2B  3B  HR   RBI  \\\n",
       "0  abercda01    1871      1    TRO  NaN   1    4   0   0   0   0   0   0.0   \n",
       "1   addybo01    1871      1    RC1  NaN  25  118  30  32   6   0   0  13.0   \n",
       "2  allisar01    1871      1    CL1  NaN  29  137  28  40   4   5   0  19.0   \n",
       "\n",
       "    SB   CS  BB   SO  IBB  HBP  SH  SF  GIDP  \n",
       "0  0.0  0.0   0  0.0  NaN  NaN NaN NaN   0.0  \n",
       "1  8.0  1.0   4  0.0  NaN  NaN NaN NaN   0.0  \n",
       "2  3.0  1.0   2  5.0  NaN  NaN NaN NaN   1.0  "
      ]
     },
     "execution_count": 115,
     "metadata": {},
     "output_type": "execute_result"
    }
   ],
   "source": [
    "print(f\"Batting table has {batting_df.shape[0]} rows and {batting_df.shape[1]} attributes.\")\n",
    "print(\"Showing the first few rows:\")\n",
    "batting_df.head(3)"
   ]
  },
  {
   "cell_type": "code",
   "execution_count": 116,
   "metadata": {},
   "outputs": [
    {
     "name": "stdout",
     "output_type": "stream",
     "text": [
      "Pitching table has 50402 rows and 30 attributes.\n",
      "Showing the first few rows:\n"
     ]
    },
    {
     "data": {
      "text/html": [
       "<div>\n",
       "<style scoped>\n",
       "    .dataframe tbody tr th:only-of-type {\n",
       "        vertical-align: middle;\n",
       "    }\n",
       "\n",
       "    .dataframe tbody tr th {\n",
       "        vertical-align: top;\n",
       "    }\n",
       "\n",
       "    .dataframe thead th {\n",
       "        text-align: right;\n",
       "    }\n",
       "</style>\n",
       "<table border=\"1\" class=\"dataframe\">\n",
       "  <thead>\n",
       "    <tr style=\"text-align: right;\">\n",
       "      <th></th>\n",
       "      <th>playerID</th>\n",
       "      <th>yearID</th>\n",
       "      <th>stint</th>\n",
       "      <th>teamID</th>\n",
       "      <th>lgID</th>\n",
       "      <th>W</th>\n",
       "      <th>L</th>\n",
       "      <th>G</th>\n",
       "      <th>GS</th>\n",
       "      <th>CG</th>\n",
       "      <th>SHO</th>\n",
       "      <th>SV</th>\n",
       "      <th>IPouts</th>\n",
       "      <th>H</th>\n",
       "      <th>ER</th>\n",
       "      <th>HR</th>\n",
       "      <th>BB</th>\n",
       "      <th>SO</th>\n",
       "      <th>BAOpp</th>\n",
       "      <th>ERA</th>\n",
       "      <th>IBB</th>\n",
       "      <th>WP</th>\n",
       "      <th>HBP</th>\n",
       "      <th>BK</th>\n",
       "      <th>BFP</th>\n",
       "      <th>GF</th>\n",
       "      <th>R</th>\n",
       "      <th>SH</th>\n",
       "      <th>SF</th>\n",
       "      <th>GIDP</th>\n",
       "    </tr>\n",
       "  </thead>\n",
       "  <tbody>\n",
       "    <tr>\n",
       "      <th>0</th>\n",
       "      <td>bechtge01</td>\n",
       "      <td>1871</td>\n",
       "      <td>1</td>\n",
       "      <td>PH1</td>\n",
       "      <td>NaN</td>\n",
       "      <td>1</td>\n",
       "      <td>2</td>\n",
       "      <td>3</td>\n",
       "      <td>3</td>\n",
       "      <td>2</td>\n",
       "      <td>0</td>\n",
       "      <td>0</td>\n",
       "      <td>78</td>\n",
       "      <td>43</td>\n",
       "      <td>23</td>\n",
       "      <td>0</td>\n",
       "      <td>11</td>\n",
       "      <td>1</td>\n",
       "      <td>NaN</td>\n",
       "      <td>7.96</td>\n",
       "      <td>NaN</td>\n",
       "      <td>7</td>\n",
       "      <td>NaN</td>\n",
       "      <td>0</td>\n",
       "      <td>146.0</td>\n",
       "      <td>0</td>\n",
       "      <td>42</td>\n",
       "      <td>NaN</td>\n",
       "      <td>NaN</td>\n",
       "      <td>NaN</td>\n",
       "    </tr>\n",
       "    <tr>\n",
       "      <th>1</th>\n",
       "      <td>brainas01</td>\n",
       "      <td>1871</td>\n",
       "      <td>1</td>\n",
       "      <td>WS3</td>\n",
       "      <td>NaN</td>\n",
       "      <td>12</td>\n",
       "      <td>15</td>\n",
       "      <td>30</td>\n",
       "      <td>30</td>\n",
       "      <td>30</td>\n",
       "      <td>0</td>\n",
       "      <td>0</td>\n",
       "      <td>792</td>\n",
       "      <td>361</td>\n",
       "      <td>132</td>\n",
       "      <td>4</td>\n",
       "      <td>37</td>\n",
       "      <td>13</td>\n",
       "      <td>NaN</td>\n",
       "      <td>4.50</td>\n",
       "      <td>NaN</td>\n",
       "      <td>7</td>\n",
       "      <td>NaN</td>\n",
       "      <td>0</td>\n",
       "      <td>1291.0</td>\n",
       "      <td>0</td>\n",
       "      <td>292</td>\n",
       "      <td>NaN</td>\n",
       "      <td>NaN</td>\n",
       "      <td>NaN</td>\n",
       "    </tr>\n",
       "    <tr>\n",
       "      <th>2</th>\n",
       "      <td>fergubo01</td>\n",
       "      <td>1871</td>\n",
       "      <td>1</td>\n",
       "      <td>NY2</td>\n",
       "      <td>NaN</td>\n",
       "      <td>0</td>\n",
       "      <td>0</td>\n",
       "      <td>1</td>\n",
       "      <td>0</td>\n",
       "      <td>0</td>\n",
       "      <td>0</td>\n",
       "      <td>0</td>\n",
       "      <td>3</td>\n",
       "      <td>8</td>\n",
       "      <td>3</td>\n",
       "      <td>0</td>\n",
       "      <td>0</td>\n",
       "      <td>0</td>\n",
       "      <td>NaN</td>\n",
       "      <td>27.00</td>\n",
       "      <td>NaN</td>\n",
       "      <td>2</td>\n",
       "      <td>NaN</td>\n",
       "      <td>0</td>\n",
       "      <td>14.0</td>\n",
       "      <td>0</td>\n",
       "      <td>9</td>\n",
       "      <td>NaN</td>\n",
       "      <td>NaN</td>\n",
       "      <td>NaN</td>\n",
       "    </tr>\n",
       "  </tbody>\n",
       "</table>\n",
       "</div>"
      ],
      "text/plain": [
       "    playerID  yearID  stint teamID lgID   W   L   G  GS  CG  SHO  SV  IPouts  \\\n",
       "0  bechtge01    1871      1    PH1  NaN   1   2   3   3   2    0   0      78   \n",
       "1  brainas01    1871      1    WS3  NaN  12  15  30  30  30    0   0     792   \n",
       "2  fergubo01    1871      1    NY2  NaN   0   0   1   0   0    0   0       3   \n",
       "\n",
       "     H   ER  HR  BB  SO  BAOpp    ERA  IBB  WP  HBP  BK     BFP  GF    R  SH  \\\n",
       "0   43   23   0  11   1    NaN   7.96  NaN   7  NaN   0   146.0   0   42 NaN   \n",
       "1  361  132   4  37  13    NaN   4.50  NaN   7  NaN   0  1291.0   0  292 NaN   \n",
       "2    8    3   0   0   0    NaN  27.00  NaN   2  NaN   0    14.0   0    9 NaN   \n",
       "\n",
       "   SF  GIDP  \n",
       "0 NaN   NaN  \n",
       "1 NaN   NaN  \n",
       "2 NaN   NaN  "
      ]
     },
     "execution_count": 116,
     "metadata": {},
     "output_type": "execute_result"
    }
   ],
   "source": [
    "print(f\"Pitching table has {pitching_df.shape[0]} rows and {pitching_df.shape[1]} attributes.\")\n",
    "print(\"Showing the first few rows:\")\n",
    "pitching_df.head(3)"
   ]
  },
  {
   "cell_type": "code",
   "execution_count": 117,
   "metadata": {},
   "outputs": [
    {
     "name": "stdout",
     "output_type": "stream",
     "text": [
      "Fielding table has 149365 rows and 18 attributes.\n",
      "Showing the first few rows:\n"
     ]
    },
    {
     "data": {
      "text/html": [
       "<div>\n",
       "<style scoped>\n",
       "    .dataframe tbody tr th:only-of-type {\n",
       "        vertical-align: middle;\n",
       "    }\n",
       "\n",
       "    .dataframe tbody tr th {\n",
       "        vertical-align: top;\n",
       "    }\n",
       "\n",
       "    .dataframe thead th {\n",
       "        text-align: right;\n",
       "    }\n",
       "</style>\n",
       "<table border=\"1\" class=\"dataframe\">\n",
       "  <thead>\n",
       "    <tr style=\"text-align: right;\">\n",
       "      <th></th>\n",
       "      <th>playerID</th>\n",
       "      <th>yearID</th>\n",
       "      <th>stint</th>\n",
       "      <th>teamID</th>\n",
       "      <th>lgID</th>\n",
       "      <th>POS</th>\n",
       "      <th>G</th>\n",
       "      <th>GS</th>\n",
       "      <th>InnOuts</th>\n",
       "      <th>PO</th>\n",
       "      <th>A</th>\n",
       "      <th>E</th>\n",
       "      <th>DP</th>\n",
       "      <th>PB</th>\n",
       "      <th>WP</th>\n",
       "      <th>SB</th>\n",
       "      <th>CS</th>\n",
       "      <th>ZR</th>\n",
       "    </tr>\n",
       "  </thead>\n",
       "  <tbody>\n",
       "    <tr>\n",
       "      <th>0</th>\n",
       "      <td>abercda01</td>\n",
       "      <td>1871</td>\n",
       "      <td>1</td>\n",
       "      <td>TRO</td>\n",
       "      <td>NaN</td>\n",
       "      <td>SS</td>\n",
       "      <td>1</td>\n",
       "      <td>1.0</td>\n",
       "      <td>24.0</td>\n",
       "      <td>1</td>\n",
       "      <td>3</td>\n",
       "      <td>2.0</td>\n",
       "      <td>0</td>\n",
       "      <td>NaN</td>\n",
       "      <td>NaN</td>\n",
       "      <td>NaN</td>\n",
       "      <td>NaN</td>\n",
       "      <td>NaN</td>\n",
       "    </tr>\n",
       "    <tr>\n",
       "      <th>1</th>\n",
       "      <td>addybo01</td>\n",
       "      <td>1871</td>\n",
       "      <td>1</td>\n",
       "      <td>RC1</td>\n",
       "      <td>NaN</td>\n",
       "      <td>2B</td>\n",
       "      <td>22</td>\n",
       "      <td>22.0</td>\n",
       "      <td>606.0</td>\n",
       "      <td>67</td>\n",
       "      <td>72</td>\n",
       "      <td>42.0</td>\n",
       "      <td>5</td>\n",
       "      <td>NaN</td>\n",
       "      <td>NaN</td>\n",
       "      <td>NaN</td>\n",
       "      <td>NaN</td>\n",
       "      <td>NaN</td>\n",
       "    </tr>\n",
       "    <tr>\n",
       "      <th>2</th>\n",
       "      <td>addybo01</td>\n",
       "      <td>1871</td>\n",
       "      <td>1</td>\n",
       "      <td>RC1</td>\n",
       "      <td>NaN</td>\n",
       "      <td>SS</td>\n",
       "      <td>3</td>\n",
       "      <td>3.0</td>\n",
       "      <td>96.0</td>\n",
       "      <td>8</td>\n",
       "      <td>14</td>\n",
       "      <td>7.0</td>\n",
       "      <td>0</td>\n",
       "      <td>NaN</td>\n",
       "      <td>NaN</td>\n",
       "      <td>NaN</td>\n",
       "      <td>NaN</td>\n",
       "      <td>NaN</td>\n",
       "    </tr>\n",
       "  </tbody>\n",
       "</table>\n",
       "</div>"
      ],
      "text/plain": [
       "    playerID  yearID  stint teamID lgID POS   G    GS  InnOuts  PO   A     E  \\\n",
       "0  abercda01    1871      1    TRO  NaN  SS   1   1.0     24.0   1   3   2.0   \n",
       "1   addybo01    1871      1    RC1  NaN  2B  22  22.0    606.0  67  72  42.0   \n",
       "2   addybo01    1871      1    RC1  NaN  SS   3   3.0     96.0   8  14   7.0   \n",
       "\n",
       "   DP  PB  WP  SB  CS  ZR  \n",
       "0   0 NaN NaN NaN NaN NaN  \n",
       "1   5 NaN NaN NaN NaN NaN  \n",
       "2   0 NaN NaN NaN NaN NaN  "
      ]
     },
     "execution_count": 117,
     "metadata": {},
     "output_type": "execute_result"
    }
   ],
   "source": [
    "print(f\"Fielding table has {fielding_df.shape[0]} rows and {fielding_df.shape[1]} attributes.\")\n",
    "print(\"Showing the first few rows:\")\n",
    "fielding_df.head(3)"
   ]
  },
  {
   "cell_type": "markdown",
   "metadata": {},
   "source": [
    "|Batting Table   |                                                        |\n",
    "|----------------|--------------------------------------------------------|\n",
    "| playerID       | Player ID code                                         |\n",
    "| yearID         | Year                                                   |\n",
    "| stint          | player's stint (order of appearances within a season)  |\n",
    "| teamID         | Team                                                   |\n",
    "| lgID           | League                                                 |\n",
    "| G              | Games                                                  |\n",
    "| AB             | At Bats                                                |\n",
    "| R              | Runs                                                   |\n",
    "| H              | Hits                                                   |\n",
    "| 2B             | Doubles                                                |\n",
    "| 3B             | Triples                                                |\n",
    "| HR             | Homeruns                                               |\n",
    "| RBI            | Runs Batted In                                         |\n",
    "| SB             | Stolen Bases                                           |\n",
    "| CS             | Caught Stealing                                        |    \n",
    "| BB             | Base on Balls                                          |\n",
    "| SO             | Strikeouts                                             |\n",
    "| IBB            | Intentional walks                                      |\n",
    "| HBP            | Hit by pitch                                           |\n",
    "| SH             | Sacrifice hits                                         |\n",
    "| SF             | Sacrifice flies                                        |\n",
    "| GIDP           | Grounded into double plays                             |\n",
    "\n",
    "The above table represents the columns and their descriptions for the 'Batting' table."
   ]
  },
  {
   "cell_type": "markdown",
   "metadata": {},
   "source": [
    "| Pitching table  | Description                                      |\n",
    "|---------|--------------------------------------------------|\n",
    "| playerID | Player ID code                                   |\n",
    "| yearID   | Year                                             |\n",
    "| stint    | Player's stint (order of appearances within a season) |\n",
    "| teamID   | Team                                             |\n",
    "| lgID     | League                                           |\n",
    "| W        | Wins                                             |\n",
    "| L        | Losses                                           |\n",
    "| G        | Games                                            |\n",
    "| GS       | Games Started                                    |\n",
    "| CG       | Complete Games                                   |\n",
    "| SHO      | Shutouts                                         |\n",
    "| SV       | Saves                                            |\n",
    "| IPOuts   | Outs Pitched (innings pitched x 3)               |\n",
    "| H        | Hits                                             |\n",
    "| ER       | Earned Runs                                      |\n",
    "| HR       | Homeruns                                         |\n",
    "| BB       | Walks                                            |\n",
    "| SO       | Strikeouts                                       |\n",
    "| BAOpp    | Opponent's Batting Average                       |\n",
    "| ERA      | Earned Run Average                               |\n",
    "| IBB      | Intentional Walks                                |\n",
    "| WP       | Wild Pitches                                     |\n",
    "| HBP      | Batters Hit By Pitch                             |\n",
    "| BK       | Balks                                            |\n",
    "| BFP      | Batters faced by Pitcher                         |\n",
    "| GF       | Games Finished                                   |\n",
    "| R        | Runs Allowed                                     |\n",
    "| SH       | Sacrifices by opposing batters                   |\n",
    "| SF       | Sacrifice flies by opposing batters              |\n",
    "| GIDP     | Grounded into double plays by opposing batter    |\n",
    "\n",
    "The above table represents the columns and their descriptions for the 'Pitching' table."
   ]
  },
  {
   "cell_type": "markdown",
   "metadata": {},
   "source": [
    "| Fielding table   | Description                                             |\n",
    "|----------|---------------------------------------------------------|\n",
    "| playerID | Player ID code                                          |\n",
    "| yearID   | Year                                                    |\n",
    "| stint    | Player's stint (order of appearances within a season)    |\n",
    "| teamID   | Team                                                    |\n",
    "| lgID     | League                                                  |\n",
    "| Pos      | Position                                                |\n",
    "| G        | Games                                                   |\n",
    "| GS       | Games Started                                           |\n",
    "| InnOuts  | Time played in the field expressed as outs              |\n",
    "| PO       | Putouts                                                 |\n",
    "| A        | Assists                                                 |\n",
    "| E        | Errors                                                  |\n",
    "| DP       | Double Plays                                            |\n",
    "| PB       | Passed Balls (by catchers)                              |\n",
    "| WP       | Wild Pitches (by catchers)                              |\n",
    "| SB       | Opponent Stolen Bases (by catchers)                     |\n",
    "| CS       | Opponents Caught Stealing (by catchers)                 |\n",
    "| ZR       | Zone Rating                                             |\n",
    "\n",
    "The above table represents the columns and their descriptions for the 'Fielding' table."
   ]
  },
  {
   "cell_type": "markdown",
   "metadata": {},
   "source": [
    "* **shutout** refers to the act by which a single pitcher pitches a complete game and does not allow the opposing team to score a run.\n",
    "*  **save** is give to a pitcher who finishes a game for the winning team under certain prescribed circumstances. Most commonly a pitcher earns a save by entering in the ninth inning of a game in which his team is winning by three or fewer runs and finishing the game by pitching one inning without losing the lead.\n",
    "* an **inning** is the basic unit of play, consisting of two halves or frames. In each half, one team bats until three outs are made, with the other team playing defense. A full baseball game is typically scheduled for nine innings\n",
    "* **wild pitch (WP)** is charged against a pitcher when his pitch is too high, too short, or too wide\n",
    "*  pitcher can commit a number of illegal motions or actions that constitute a **balk**\n",
    "* A pitcher receives a **win** when he is the pitcher of record when his team takes the lead for good\n",
    "* pitcher on the winning team is awarded a **win** (the \"winning pitcher\") and one pitcher on the losing team is given a **loss** \n",
    "* A fielder is credited with a **putout** when he is the fielder who physically records the act of completing an out\n",
    "* An **assist** is awarded to a fielder who touches the ball before a putout is recorded by another fielder\n",
    "* A fielder is given an **error** if, in the judgment of the official scorer, he fails to convert an out on a play that an average fielder should have made"
   ]
  },
  {
   "cell_type": "markdown",
   "metadata": {},
   "source": [
    "## Data preparation - filling missing data, attribute selection, time-based aggregation"
   ]
  },
  {
   "cell_type": "markdown",
   "metadata": {},
   "source": [
    "### Attribute selection:"
   ]
  },
  {
   "cell_type": "code",
   "execution_count": 118,
   "metadata": {},
   "outputs": [],
   "source": [
    "batting_df['SO'] = batting_df['SO'].fillna(0).astype(int)\n",
    "batting_df.dropna(axis='columns', how='any', inplace=True)\n",
    "batting_df.drop('BB', axis=1, inplace=True)"
   ]
  },
  {
   "cell_type": "code",
   "execution_count": 119,
   "metadata": {},
   "outputs": [],
   "source": [
    "pitching_df['SO'] = pitching_df['SO'].fillna(0).astype(int)\n",
    "pitching_df.dropna(axis='columns', how='any', inplace=True)\n",
    "pitching_df.drop(['GS', 'CG', 'BB', 'GF'], axis=1, inplace=True)"
   ]
  },
  {
   "cell_type": "code",
   "execution_count": 120,
   "metadata": {},
   "outputs": [],
   "source": [
    "fielding_df['InnOuts'] = fielding_df['InnOuts'].fillna(0).astype(int)\n",
    "fielding_df['E'] = fielding_df['E'].fillna(0).astype(int)\n",
    "fielding_df.dropna(axis='columns', how='any', inplace=True)\n",
    "fielding_df.drop('DP', axis=1, inplace=True)"
   ]
  },
  {
   "cell_type": "markdown",
   "metadata": {},
   "source": [
    "### Adding player full names and team full names"
   ]
  },
  {
   "cell_type": "code",
   "execution_count": 121,
   "metadata": {},
   "outputs": [],
   "source": [
    "batting_df = batting_df.merge(player_names[['playerID', 'player_fn']], on='playerID', how='left')\n",
    "batting_df = batting_df.merge(team_names[['teamID', 'yearID', 'name']], on=['teamID','yearID'], how='left')"
   ]
  },
  {
   "cell_type": "code",
   "execution_count": 122,
   "metadata": {},
   "outputs": [],
   "source": [
    "pitching_df = pitching_df.merge(player_names[['playerID', 'player_fn']], on='playerID', how='left')\n",
    "pitching_df = pitching_df.merge(team_names[['teamID', 'yearID', 'name']], on=['teamID','yearID'], how='left')"
   ]
  },
  {
   "cell_type": "code",
   "execution_count": 123,
   "metadata": {},
   "outputs": [],
   "source": [
    "fielding_df = fielding_df.merge(player_names[['playerID', 'player_fn']], on='playerID', how='left')\n",
    "fielding_df = fielding_df.merge(team_names[['teamID', 'yearID', 'name']], on=['teamID','yearID'], how='left')"
   ]
  },
  {
   "cell_type": "markdown",
   "metadata": {},
   "source": [
    "### Renaming columns"
   ]
  },
  {
   "cell_type": "code",
   "execution_count": 124,
   "metadata": {},
   "outputs": [],
   "source": [
    "# Rename columns\n",
    "new_attribute_names = {\n",
    "    \"yearID\" : \"year\",\n",
    "    \"name\": \"teams\",\n",
    "    \"player_fn\": \"player\",\n",
    "    \"G\": \"games_played\",\n",
    "    \"AB\": \"at_bats\",\n",
    "    \"R\": \"runs\",\n",
    "    \"H\": \"hits\",\n",
    "    \"2B\": \"doubles\",\n",
    "    \"3B\": \"triples\",\n",
    "    \"HR\": \"homeruns\",\n",
    "    \"SO\": \"strikeouts\"\n",
    "}\n",
    "batting_df.rename(columns=new_attribute_names, inplace=True)"
   ]
  },
  {
   "cell_type": "code",
   "execution_count": 125,
   "metadata": {},
   "outputs": [],
   "source": [
    "# Rename columns\n",
    "new_attribute_names = {\n",
    "    \"yearID\" : \"year\",\n",
    "    \"name\": \"teams\",\n",
    "    \"player_fn\": \"player\",\n",
    "    \"G\": \"games_played\",\n",
    "    \"H\": \"hits\",\n",
    "    \"HR\": \"homeruns\",\n",
    "    \"SO\": \"strikeouts\",\n",
    "    \"W\": \"wins\",\n",
    "    \"L\": \"losses\",\n",
    "    \"SHO\": \"shutouts\",\n",
    "    \"SV\": \"saves\",\n",
    "    \"IPouts\": \"outs_pitched\",\n",
    "    \"ER\": \"earned_runs\",\n",
    "    \"WP\": \"wild_pitches\",\n",
    "    \"BK\": \"balks\",\n",
    "    \"R\": \"runs_allowed\"\n",
    "}\n",
    "pitching_df.rename(columns=new_attribute_names, inplace=True)"
   ]
  },
  {
   "cell_type": "code",
   "execution_count": 126,
   "metadata": {},
   "outputs": [],
   "source": [
    "# Rename columns\n",
    "new_attribute_names = {\n",
    "    \"yearID\" : \"year\",\n",
    "    \"name\": \"teams\",\n",
    "    \"player_fn\": \"player\",\n",
    "    \"G\": \"games_played\",\n",
    "    \"InnOuts\": \"innings_played_in_outs\",\n",
    "    \"PO\": \"putouts\",\n",
    "    \"A\": \"assists\",\n",
    "    \"E\": \"errors\",\n",
    "    \"POS\": \"field_positions\"\n",
    "}\n",
    "fielding_df.rename(columns=new_attribute_names, inplace=True)"
   ]
  },
  {
   "cell_type": "markdown",
   "metadata": {},
   "source": [
    "### Aggregate to have nice time-based series"
   ]
  },
  {
   "cell_type": "code",
   "execution_count": 127,
   "metadata": {},
   "outputs": [],
   "source": [
    "# Specify the attributes to sum and concatenate\n",
    "sum_attributes = ['games_played', 'at_bats', 'runs', 'hits', 'doubles', 'triples', 'homeruns', 'strikeouts']\n",
    "concatenate_attribute = 'teams'\n",
    "\n",
    "batting_df = batting_df.groupby(['year', 'player']).agg({\n",
    "    **{attr: 'sum' for attr in sum_attributes},\n",
    "     concatenate_attribute: lambda x: list(set(x))}).reset_index()"
   ]
  },
  {
   "cell_type": "code",
   "execution_count": 128,
   "metadata": {},
   "outputs": [],
   "source": [
    "# Specify the attributes to sum and concatenate\n",
    "sum_attributes = ['wins', 'losses', 'games_played', 'shutouts', 'saves', 'outs_pitched', 'hits', 'earned_runs', 'homeruns', 'strikeouts', 'wild_pitches', 'balks', 'runs_allowed']\n",
    "concatenate_attribute = 'teams'\n",
    "\n",
    "pitching_df = pitching_df.groupby(['year', 'player']).agg({\n",
    "    **{attr: 'sum' for attr in sum_attributes},\n",
    "     concatenate_attribute: lambda x: list(set(x))}).reset_index()"
   ]
  },
  {
   "cell_type": "code",
   "execution_count": 129,
   "metadata": {},
   "outputs": [],
   "source": [
    "# Specify the attributes to sum and concatenate\n",
    "sum_attributes = ['games_played', 'innings_played_in_outs', 'putouts', 'assists', 'errors']\n",
    "concatenate_attributes = ['field_positions', 'teams']\n",
    "\n",
    "fielding_df = fielding_df.groupby(['year', 'player']).agg({\n",
    "    **{attr: 'sum' for attr in sum_attributes},\n",
    "    **{cat_attr: lambda x: list(set(x)) for cat_attr in concatenate_attributes}\n",
    "}).reset_index()"
   ]
  },
  {
   "cell_type": "markdown",
   "metadata": {},
   "source": [
    "## Find if there are player who are both batters and pitchers"
   ]
  },
  {
   "cell_type": "code",
   "execution_count": 130,
   "metadata": {},
   "outputs": [
    {
     "name": "stdout",
     "output_type": "stream",
     "text": [
      "There are 10189 players who are both batters and pitchers\n"
     ]
    },
    {
     "data": {
      "text/html": [
       "<div>\n",
       "<style scoped>\n",
       "    .dataframe tbody tr th:only-of-type {\n",
       "        vertical-align: middle;\n",
       "    }\n",
       "\n",
       "    .dataframe tbody tr th {\n",
       "        vertical-align: top;\n",
       "    }\n",
       "\n",
       "    .dataframe thead th {\n",
       "        text-align: right;\n",
       "    }\n",
       "</style>\n",
       "<table border=\"1\" class=\"dataframe\">\n",
       "  <thead>\n",
       "    <tr style=\"text-align: right;\">\n",
       "      <th></th>\n",
       "      <th>year</th>\n",
       "      <th>player</th>\n",
       "      <th>games_played</th>\n",
       "      <th>at_bats</th>\n",
       "      <th>runs</th>\n",
       "      <th>hits</th>\n",
       "      <th>doubles</th>\n",
       "      <th>triples</th>\n",
       "      <th>homeruns</th>\n",
       "      <th>strikeouts</th>\n",
       "      <th>teams</th>\n",
       "    </tr>\n",
       "  </thead>\n",
       "  <tbody>\n",
       "    <tr>\n",
       "      <th>1</th>\n",
       "      <td>1871</td>\n",
       "      <td>Al Pratt</td>\n",
       "      <td>29</td>\n",
       "      <td>130</td>\n",
       "      <td>31</td>\n",
       "      <td>34</td>\n",
       "      <td>6</td>\n",
       "      <td>8</td>\n",
       "      <td>0</td>\n",
       "      <td>0</td>\n",
       "      <td>[Cleveland Forest Citys]</td>\n",
       "    </tr>\n",
       "    <tr>\n",
       "      <th>3</th>\n",
       "      <td>1871</td>\n",
       "      <td>Al Spalding</td>\n",
       "      <td>31</td>\n",
       "      <td>144</td>\n",
       "      <td>43</td>\n",
       "      <td>39</td>\n",
       "      <td>10</td>\n",
       "      <td>1</td>\n",
       "      <td>1</td>\n",
       "      <td>1</td>\n",
       "      <td>[Boston Red Stockings]</td>\n",
       "    </tr>\n",
       "    <tr>\n",
       "      <th>6</th>\n",
       "      <td>1871</td>\n",
       "      <td>Asa Brainard</td>\n",
       "      <td>30</td>\n",
       "      <td>134</td>\n",
       "      <td>24</td>\n",
       "      <td>30</td>\n",
       "      <td>4</td>\n",
       "      <td>0</td>\n",
       "      <td>0</td>\n",
       "      <td>2</td>\n",
       "      <td>[Washington Olympics]</td>\n",
       "    </tr>\n",
       "    <tr>\n",
       "      <th>7</th>\n",
       "      <td>1871</td>\n",
       "      <td>Bill Barrett</td>\n",
       "      <td>1</td>\n",
       "      <td>5</td>\n",
       "      <td>1</td>\n",
       "      <td>1</td>\n",
       "      <td>1</td>\n",
       "      <td>0</td>\n",
       "      <td>0</td>\n",
       "      <td>0</td>\n",
       "      <td>[Fort Wayne Kekiongas]</td>\n",
       "    </tr>\n",
       "    <tr>\n",
       "      <th>11</th>\n",
       "      <td>1871</td>\n",
       "      <td>Bill Stearns</td>\n",
       "      <td>2</td>\n",
       "      <td>9</td>\n",
       "      <td>1</td>\n",
       "      <td>0</td>\n",
       "      <td>0</td>\n",
       "      <td>0</td>\n",
       "      <td>0</td>\n",
       "      <td>2</td>\n",
       "      <td>[Washington Olympics]</td>\n",
       "    </tr>\n",
       "  </tbody>\n",
       "</table>\n",
       "</div>"
      ],
      "text/plain": [
       "    year        player  games_played  at_bats  runs  hits  doubles  triples  \\\n",
       "1   1871      Al Pratt            29      130    31    34        6        8   \n",
       "3   1871   Al Spalding            31      144    43    39       10        1   \n",
       "6   1871  Asa Brainard            30      134    24    30        4        0   \n",
       "7   1871  Bill Barrett             1        5     1     1        1        0   \n",
       "11  1871  Bill Stearns             2        9     1     0        0        0   \n",
       "\n",
       "    homeruns  strikeouts                     teams  \n",
       "1          0           0  [Cleveland Forest Citys]  \n",
       "3          1           1    [Boston Red Stockings]  \n",
       "6          0           2     [Washington Olympics]  \n",
       "7          0           0    [Fort Wayne Kekiongas]  \n",
       "11         0           2     [Washington Olympics]  "
      ]
     },
     "execution_count": 130,
     "metadata": {},
     "output_type": "execute_result"
    }
   ],
   "source": [
    "common_players = pd.merge(batting_df['player'], pitching_df['player'], on='player')\n",
    "common_players_data = batting_df[batting_df['player'].isin(common_players['player'].unique())]\n",
    "print(f\"There are {len(common_players['player'].unique())} players who are both batters and pitchers\")\n",
    "common_players_data.head(5)"
   ]
  },
  {
   "cell_type": "code",
   "execution_count": 131,
   "metadata": {},
   "outputs": [
    {
     "data": {
      "text/html": [
       "<div>\n",
       "<style scoped>\n",
       "    .dataframe tbody tr th:only-of-type {\n",
       "        vertical-align: middle;\n",
       "    }\n",
       "\n",
       "    .dataframe tbody tr th {\n",
       "        vertical-align: top;\n",
       "    }\n",
       "\n",
       "    .dataframe thead th {\n",
       "        text-align: right;\n",
       "    }\n",
       "</style>\n",
       "<table border=\"1\" class=\"dataframe\">\n",
       "  <thead>\n",
       "    <tr style=\"text-align: right;\">\n",
       "      <th></th>\n",
       "      <th>year</th>\n",
       "      <th>player</th>\n",
       "      <th>games_played</th>\n",
       "      <th>at_bats</th>\n",
       "      <th>runs</th>\n",
       "      <th>hits</th>\n",
       "      <th>doubles</th>\n",
       "      <th>triples</th>\n",
       "      <th>homeruns</th>\n",
       "      <th>strikeouts</th>\n",
       "      <th>teams</th>\n",
       "    </tr>\n",
       "  </thead>\n",
       "  <tbody>\n",
       "    <tr>\n",
       "      <th>7</th>\n",
       "      <td>1871</td>\n",
       "      <td>Bill Barrett</td>\n",
       "      <td>1</td>\n",
       "      <td>5</td>\n",
       "      <td>1</td>\n",
       "      <td>1</td>\n",
       "      <td>1</td>\n",
       "      <td>0</td>\n",
       "      <td>0</td>\n",
       "      <td>0</td>\n",
       "      <td>[Fort Wayne Kekiongas]</td>\n",
       "    </tr>\n",
       "    <tr>\n",
       "      <th>125</th>\n",
       "      <td>1872</td>\n",
       "      <td>Bill Barrett</td>\n",
       "      <td>1</td>\n",
       "      <td>4</td>\n",
       "      <td>0</td>\n",
       "      <td>0</td>\n",
       "      <td>0</td>\n",
       "      <td>0</td>\n",
       "      <td>0</td>\n",
       "      <td>0</td>\n",
       "      <td>[Washington Olympics]</td>\n",
       "    </tr>\n",
       "    <tr>\n",
       "      <th>262</th>\n",
       "      <td>1873</td>\n",
       "      <td>Bill Barrett</td>\n",
       "      <td>1</td>\n",
       "      <td>4</td>\n",
       "      <td>0</td>\n",
       "      <td>1</td>\n",
       "      <td>0</td>\n",
       "      <td>0</td>\n",
       "      <td>0</td>\n",
       "      <td>0</td>\n",
       "      <td>[Baltimore Canaries]</td>\n",
       "    </tr>\n",
       "    <tr>\n",
       "      <th>17154</th>\n",
       "      <td>1921</td>\n",
       "      <td>Bill Barrett</td>\n",
       "      <td>14</td>\n",
       "      <td>30</td>\n",
       "      <td>3</td>\n",
       "      <td>7</td>\n",
       "      <td>2</td>\n",
       "      <td>1</td>\n",
       "      <td>0</td>\n",
       "      <td>5</td>\n",
       "      <td>[Philadelphia Athletics]</td>\n",
       "    </tr>\n",
       "    <tr>\n",
       "      <th>18138</th>\n",
       "      <td>1923</td>\n",
       "      <td>Bill Barrett</td>\n",
       "      <td>44</td>\n",
       "      <td>162</td>\n",
       "      <td>17</td>\n",
       "      <td>44</td>\n",
       "      <td>7</td>\n",
       "      <td>2</td>\n",
       "      <td>2</td>\n",
       "      <td>24</td>\n",
       "      <td>[Chicago White Sox]</td>\n",
       "    </tr>\n",
       "    <tr>\n",
       "      <th>18655</th>\n",
       "      <td>1924</td>\n",
       "      <td>Bill Barrett</td>\n",
       "      <td>119</td>\n",
       "      <td>406</td>\n",
       "      <td>52</td>\n",
       "      <td>110</td>\n",
       "      <td>18</td>\n",
       "      <td>5</td>\n",
       "      <td>2</td>\n",
       "      <td>38</td>\n",
       "      <td>[Chicago White Sox]</td>\n",
       "    </tr>\n",
       "    <tr>\n",
       "      <th>19186</th>\n",
       "      <td>1925</td>\n",
       "      <td>Bill Barrett</td>\n",
       "      <td>81</td>\n",
       "      <td>245</td>\n",
       "      <td>44</td>\n",
       "      <td>89</td>\n",
       "      <td>23</td>\n",
       "      <td>3</td>\n",
       "      <td>3</td>\n",
       "      <td>27</td>\n",
       "      <td>[Chicago White Sox]</td>\n",
       "    </tr>\n",
       "    <tr>\n",
       "      <th>19704</th>\n",
       "      <td>1926</td>\n",
       "      <td>Bill Barrett</td>\n",
       "      <td>111</td>\n",
       "      <td>368</td>\n",
       "      <td>46</td>\n",
       "      <td>113</td>\n",
       "      <td>31</td>\n",
       "      <td>4</td>\n",
       "      <td>6</td>\n",
       "      <td>26</td>\n",
       "      <td>[Chicago White Sox]</td>\n",
       "    </tr>\n",
       "    <tr>\n",
       "      <th>20210</th>\n",
       "      <td>1927</td>\n",
       "      <td>Bill Barrett</td>\n",
       "      <td>147</td>\n",
       "      <td>556</td>\n",
       "      <td>62</td>\n",
       "      <td>159</td>\n",
       "      <td>35</td>\n",
       "      <td>9</td>\n",
       "      <td>4</td>\n",
       "      <td>46</td>\n",
       "      <td>[Chicago White Sox]</td>\n",
       "    </tr>\n",
       "    <tr>\n",
       "      <th>20725</th>\n",
       "      <td>1928</td>\n",
       "      <td>Bill Barrett</td>\n",
       "      <td>76</td>\n",
       "      <td>235</td>\n",
       "      <td>34</td>\n",
       "      <td>65</td>\n",
       "      <td>11</td>\n",
       "      <td>2</td>\n",
       "      <td>3</td>\n",
       "      <td>30</td>\n",
       "      <td>[Chicago White Sox]</td>\n",
       "    </tr>\n",
       "    <tr>\n",
       "      <th>21224</th>\n",
       "      <td>1929</td>\n",
       "      <td>Bill Barrett</td>\n",
       "      <td>114</td>\n",
       "      <td>371</td>\n",
       "      <td>57</td>\n",
       "      <td>100</td>\n",
       "      <td>23</td>\n",
       "      <td>4</td>\n",
       "      <td>3</td>\n",
       "      <td>38</td>\n",
       "      <td>[Chicago White Sox, Boston Red Sox]</td>\n",
       "    </tr>\n",
       "    <tr>\n",
       "      <th>21738</th>\n",
       "      <td>1930</td>\n",
       "      <td>Bill Barrett</td>\n",
       "      <td>12</td>\n",
       "      <td>22</td>\n",
       "      <td>3</td>\n",
       "      <td>3</td>\n",
       "      <td>1</td>\n",
       "      <td>0</td>\n",
       "      <td>0</td>\n",
       "      <td>5</td>\n",
       "      <td>[Boston Red Sox, Washington Senators]</td>\n",
       "    </tr>\n",
       "  </tbody>\n",
       "</table>\n",
       "</div>"
      ],
      "text/plain": [
       "       year        player  games_played  at_bats  runs  hits  doubles  \\\n",
       "7      1871  Bill Barrett             1        5     1     1        1   \n",
       "125    1872  Bill Barrett             1        4     0     0        0   \n",
       "262    1873  Bill Barrett             1        4     0     1        0   \n",
       "17154  1921  Bill Barrett            14       30     3     7        2   \n",
       "18138  1923  Bill Barrett            44      162    17    44        7   \n",
       "18655  1924  Bill Barrett           119      406    52   110       18   \n",
       "19186  1925  Bill Barrett            81      245    44    89       23   \n",
       "19704  1926  Bill Barrett           111      368    46   113       31   \n",
       "20210  1927  Bill Barrett           147      556    62   159       35   \n",
       "20725  1928  Bill Barrett            76      235    34    65       11   \n",
       "21224  1929  Bill Barrett           114      371    57   100       23   \n",
       "21738  1930  Bill Barrett            12       22     3     3        1   \n",
       "\n",
       "       triples  homeruns  strikeouts                                  teams  \n",
       "7            0         0           0                 [Fort Wayne Kekiongas]  \n",
       "125          0         0           0                  [Washington Olympics]  \n",
       "262          0         0           0                   [Baltimore Canaries]  \n",
       "17154        1         0           5               [Philadelphia Athletics]  \n",
       "18138        2         2          24                    [Chicago White Sox]  \n",
       "18655        5         2          38                    [Chicago White Sox]  \n",
       "19186        3         3          27                    [Chicago White Sox]  \n",
       "19704        4         6          26                    [Chicago White Sox]  \n",
       "20210        9         4          46                    [Chicago White Sox]  \n",
       "20725        2         3          30                    [Chicago White Sox]  \n",
       "21224        4         3          38    [Chicago White Sox, Boston Red Sox]  \n",
       "21738        0         0           5  [Boston Red Sox, Washington Senators]  "
      ]
     },
     "execution_count": 131,
     "metadata": {},
     "output_type": "execute_result"
    }
   ],
   "source": [
    "batting_df[batting_df['player'] == 'Bill Barrett']"
   ]
  },
  {
   "cell_type": "code",
   "execution_count": 132,
   "metadata": {},
   "outputs": [
    {
     "data": {
      "text/html": [
       "<div>\n",
       "<style scoped>\n",
       "    .dataframe tbody tr th:only-of-type {\n",
       "        vertical-align: middle;\n",
       "    }\n",
       "\n",
       "    .dataframe tbody tr th {\n",
       "        vertical-align: top;\n",
       "    }\n",
       "\n",
       "    .dataframe thead th {\n",
       "        text-align: right;\n",
       "    }\n",
       "</style>\n",
       "<table border=\"1\" class=\"dataframe\">\n",
       "  <thead>\n",
       "    <tr style=\"text-align: right;\">\n",
       "      <th></th>\n",
       "      <th>year</th>\n",
       "      <th>player</th>\n",
       "      <th>wins</th>\n",
       "      <th>losses</th>\n",
       "      <th>games_played</th>\n",
       "      <th>shutouts</th>\n",
       "      <th>saves</th>\n",
       "      <th>outs_pitched</th>\n",
       "      <th>hits</th>\n",
       "      <th>earned_runs</th>\n",
       "      <th>homeruns</th>\n",
       "      <th>strikeouts</th>\n",
       "      <th>wild_pitches</th>\n",
       "      <th>balks</th>\n",
       "      <th>runs_allowed</th>\n",
       "      <th>teams</th>\n",
       "    </tr>\n",
       "  </thead>\n",
       "  <tbody>\n",
       "    <tr>\n",
       "      <th>6285</th>\n",
       "      <td>1921</td>\n",
       "      <td>Bill Barrett</td>\n",
       "      <td>1</td>\n",
       "      <td>0</td>\n",
       "      <td>4</td>\n",
       "      <td>0</td>\n",
       "      <td>0</td>\n",
       "      <td>15</td>\n",
       "      <td>2</td>\n",
       "      <td>4</td>\n",
       "      <td>0</td>\n",
       "      <td>2</td>\n",
       "      <td>1</td>\n",
       "      <td>0</td>\n",
       "      <td>4</td>\n",
       "      <td>[Philadelphia Athletics]</td>\n",
       "    </tr>\n",
       "  </tbody>\n",
       "</table>\n",
       "</div>"
      ],
      "text/plain": [
       "      year        player  wins  losses  games_played  shutouts  saves  \\\n",
       "6285  1921  Bill Barrett     1       0             4         0      0   \n",
       "\n",
       "      outs_pitched  hits  earned_runs  homeruns  strikeouts  wild_pitches  \\\n",
       "6285            15     2            4         0           2             1   \n",
       "\n",
       "      balks  runs_allowed                     teams  \n",
       "6285      0             4  [Philadelphia Athletics]  "
      ]
     },
     "execution_count": 132,
     "metadata": {},
     "output_type": "execute_result"
    }
   ],
   "source": [
    "pitching_df[pitching_df['player'] == 'Bill Barrett']"
   ]
  },
  {
   "cell_type": "markdown",
   "metadata": {},
   "source": [
    "## Find players stats of fielding and batting/pitching"
   ]
  },
  {
   "cell_type": "code",
   "execution_count": 133,
   "metadata": {},
   "outputs": [
    {
     "name": "stdout",
     "output_type": "stream",
     "text": [
      "Batting: 19596 out of 19596 are also in the fielding table.\n",
      "Pitching: 10189 out of 10189 are also in the fielding table.\n"
     ]
    }
   ],
   "source": [
    "batting_field_df = pd.merge(batting_df['player'], fielding_df['player'], on='player')\n",
    "pitching_field_df = pd.merge(pitching_df['player'], fielding_df['player'], on='player')\n",
    "print(f\"Batting: {len(batting_field_df['player'].unique())} out of {len(fielding_df['player'].unique())} are also in the fielding table.\")\n",
    "print(f\"Pitching: {len(pitching_field_df['player'].unique())} out of {len(pitching_df['player'].unique())} are also in the fielding table.\")"
   ]
  },
  {
   "cell_type": "markdown",
   "metadata": {},
   "source": [
    "## Prepare the final dataframes\n",
    "### 1. Batting performance of players"
   ]
  },
  {
   "cell_type": "code",
   "execution_count": 134,
   "metadata": {},
   "outputs": [
    {
     "data": {
      "text/plain": [
       "(103403, 11)"
      ]
     },
     "execution_count": 134,
     "metadata": {},
     "output_type": "execute_result"
    }
   ],
   "source": [
    "batting_df.shape"
   ]
  },
  {
   "cell_type": "code",
   "execution_count": 139,
   "metadata": {},
   "outputs": [
    {
     "data": {
      "text/html": [
       "<div>\n",
       "<style scoped>\n",
       "    .dataframe tbody tr th:only-of-type {\n",
       "        vertical-align: middle;\n",
       "    }\n",
       "\n",
       "    .dataframe tbody tr th {\n",
       "        vertical-align: top;\n",
       "    }\n",
       "\n",
       "    .dataframe thead th {\n",
       "        text-align: right;\n",
       "    }\n",
       "</style>\n",
       "<table border=\"1\" class=\"dataframe\">\n",
       "  <thead>\n",
       "    <tr style=\"text-align: right;\">\n",
       "      <th></th>\n",
       "      <th>year</th>\n",
       "      <th>player</th>\n",
       "      <th>games_played</th>\n",
       "      <th>at_bats</th>\n",
       "      <th>runs</th>\n",
       "      <th>hits</th>\n",
       "      <th>doubles</th>\n",
       "      <th>triples</th>\n",
       "      <th>homeruns</th>\n",
       "      <th>strikeouts</th>\n",
       "      <th>teams</th>\n",
       "    </tr>\n",
       "  </thead>\n",
       "  <tbody>\n",
       "    <tr>\n",
       "      <th>0</th>\n",
       "      <td>1871</td>\n",
       "      <td>Al Barker</td>\n",
       "      <td>1</td>\n",
       "      <td>4</td>\n",
       "      <td>0</td>\n",
       "      <td>1</td>\n",
       "      <td>0</td>\n",
       "      <td>0</td>\n",
       "      <td>0</td>\n",
       "      <td>0</td>\n",
       "      <td>[Rockford Forest Citys]</td>\n",
       "    </tr>\n",
       "    <tr>\n",
       "      <th>1</th>\n",
       "      <td>1871</td>\n",
       "      <td>Al Pratt</td>\n",
       "      <td>29</td>\n",
       "      <td>130</td>\n",
       "      <td>31</td>\n",
       "      <td>34</td>\n",
       "      <td>6</td>\n",
       "      <td>8</td>\n",
       "      <td>0</td>\n",
       "      <td>0</td>\n",
       "      <td>[Cleveland Forest Citys]</td>\n",
       "    </tr>\n",
       "    <tr>\n",
       "      <th>2</th>\n",
       "      <td>1871</td>\n",
       "      <td>Al Reach</td>\n",
       "      <td>26</td>\n",
       "      <td>133</td>\n",
       "      <td>43</td>\n",
       "      <td>47</td>\n",
       "      <td>7</td>\n",
       "      <td>6</td>\n",
       "      <td>0</td>\n",
       "      <td>6</td>\n",
       "      <td>[Philadelphia Athletics]</td>\n",
       "    </tr>\n",
       "  </tbody>\n",
       "</table>\n",
       "</div>"
      ],
      "text/plain": [
       "   year     player  games_played  at_bats  runs  hits  doubles  triples  \\\n",
       "0  1871  Al Barker             1        4     0     1        0        0   \n",
       "1  1871   Al Pratt            29      130    31    34        6        8   \n",
       "2  1871   Al Reach            26      133    43    47        7        6   \n",
       "\n",
       "   homeruns  strikeouts                     teams  \n",
       "0         0           0   [Rockford Forest Citys]  \n",
       "1         0           0  [Cleveland Forest Citys]  \n",
       "2         0           6  [Philadelphia Athletics]  "
      ]
     },
     "execution_count": 139,
     "metadata": {},
     "output_type": "execute_result"
    }
   ],
   "source": [
    "batting_df.head(3)"
   ]
  },
  {
   "cell_type": "markdown",
   "metadata": {},
   "source": [
    "### 2. Pitching performance of players"
   ]
  },
  {
   "cell_type": "code",
   "execution_count": 200,
   "metadata": {},
   "outputs": [],
   "source": [
    "pitching_df.shape\n",
    "pitching_df.drop('outs_pitched', axis=1, inplace=True)"
   ]
  },
  {
   "cell_type": "code",
   "execution_count": 202,
   "metadata": {},
   "outputs": [
    {
     "data": {
      "text/plain": "   year        player  wins  losses  games_played  shutouts  saves  hits  \\\n0  1871      Al Pratt    10      17            28         0      0   296   \n1  1871   Al Spalding    19      10            31         1      0   333   \n2  1871  Asa Brainard    12      15            30         0      0   361   \n3  1871  Bill Stearns     2       0             2         0      0    10   \n4  1871  Bob Ferguson     0       0             1         0      0     8   \n\n   strikeouts  wild_pitches  balks  runs_allowed                     teams  \n0          34            48      0           288  [Cleveland Forest Citys]  \n1          23            11      0           272    [Boston Red Stockings]  \n2          13             7      0           292     [Washington Olympics]  \n3           0             0      0            11     [Washington Olympics]  \n4           0             2      0             9        [New York Mutuals]  ",
      "text/html": "<div>\n<style scoped>\n    .dataframe tbody tr th:only-of-type {\n        vertical-align: middle;\n    }\n\n    .dataframe tbody tr th {\n        vertical-align: top;\n    }\n\n    .dataframe thead th {\n        text-align: right;\n    }\n</style>\n<table border=\"1\" class=\"dataframe\">\n  <thead>\n    <tr style=\"text-align: right;\">\n      <th></th>\n      <th>year</th>\n      <th>player</th>\n      <th>wins</th>\n      <th>losses</th>\n      <th>games_played</th>\n      <th>shutouts</th>\n      <th>saves</th>\n      <th>hits</th>\n      <th>strikeouts</th>\n      <th>wild_pitches</th>\n      <th>balks</th>\n      <th>runs_allowed</th>\n      <th>teams</th>\n    </tr>\n  </thead>\n  <tbody>\n    <tr>\n      <th>0</th>\n      <td>1871</td>\n      <td>Al Pratt</td>\n      <td>10</td>\n      <td>17</td>\n      <td>28</td>\n      <td>0</td>\n      <td>0</td>\n      <td>296</td>\n      <td>34</td>\n      <td>48</td>\n      <td>0</td>\n      <td>288</td>\n      <td>[Cleveland Forest Citys]</td>\n    </tr>\n    <tr>\n      <th>1</th>\n      <td>1871</td>\n      <td>Al Spalding</td>\n      <td>19</td>\n      <td>10</td>\n      <td>31</td>\n      <td>1</td>\n      <td>0</td>\n      <td>333</td>\n      <td>23</td>\n      <td>11</td>\n      <td>0</td>\n      <td>272</td>\n      <td>[Boston Red Stockings]</td>\n    </tr>\n    <tr>\n      <th>2</th>\n      <td>1871</td>\n      <td>Asa Brainard</td>\n      <td>12</td>\n      <td>15</td>\n      <td>30</td>\n      <td>0</td>\n      <td>0</td>\n      <td>361</td>\n      <td>13</td>\n      <td>7</td>\n      <td>0</td>\n      <td>292</td>\n      <td>[Washington Olympics]</td>\n    </tr>\n    <tr>\n      <th>3</th>\n      <td>1871</td>\n      <td>Bill Stearns</td>\n      <td>2</td>\n      <td>0</td>\n      <td>2</td>\n      <td>0</td>\n      <td>0</td>\n      <td>10</td>\n      <td>0</td>\n      <td>0</td>\n      <td>0</td>\n      <td>11</td>\n      <td>[Washington Olympics]</td>\n    </tr>\n    <tr>\n      <th>4</th>\n      <td>1871</td>\n      <td>Bob Ferguson</td>\n      <td>0</td>\n      <td>0</td>\n      <td>1</td>\n      <td>0</td>\n      <td>0</td>\n      <td>8</td>\n      <td>0</td>\n      <td>2</td>\n      <td>0</td>\n      <td>9</td>\n      <td>[New York Mutuals]</td>\n    </tr>\n  </tbody>\n</table>\n</div>"
     },
     "execution_count": 202,
     "metadata": {},
     "output_type": "execute_result"
    }
   ],
   "source": [
    "pitching_df.head(5)"
   ]
  },
  {
   "cell_type": "markdown",
   "metadata": {},
   "source": [
    "### 3. Fielding performance of players "
   ]
  },
  {
   "cell_type": "code",
   "execution_count": 140,
   "metadata": {},
   "outputs": [
    {
     "data": {
      "text/plain": [
       "(102202, 9)"
      ]
     },
     "execution_count": 140,
     "metadata": {},
     "output_type": "execute_result"
    }
   ],
   "source": [
    "fielding_df.shape"
   ]
  },
  {
   "cell_type": "code",
   "execution_count": 141,
   "metadata": {},
   "outputs": [
    {
     "data": {
      "text/html": [
       "<div>\n",
       "<style scoped>\n",
       "    .dataframe tbody tr th:only-of-type {\n",
       "        vertical-align: middle;\n",
       "    }\n",
       "\n",
       "    .dataframe tbody tr th {\n",
       "        vertical-align: top;\n",
       "    }\n",
       "\n",
       "    .dataframe thead th {\n",
       "        text-align: right;\n",
       "    }\n",
       "</style>\n",
       "<table border=\"1\" class=\"dataframe\">\n",
       "  <thead>\n",
       "    <tr style=\"text-align: right;\">\n",
       "      <th></th>\n",
       "      <th>year</th>\n",
       "      <th>player</th>\n",
       "      <th>games_played</th>\n",
       "      <th>innings_played_in_outs</th>\n",
       "      <th>putouts</th>\n",
       "      <th>assists</th>\n",
       "      <th>errors</th>\n",
       "      <th>field_positions</th>\n",
       "      <th>teams</th>\n",
       "    </tr>\n",
       "  </thead>\n",
       "  <tbody>\n",
       "    <tr>\n",
       "      <th>0</th>\n",
       "      <td>1871</td>\n",
       "      <td>Al Barker</td>\n",
       "      <td>1</td>\n",
       "      <td>27</td>\n",
       "      <td>2</td>\n",
       "      <td>0</td>\n",
       "      <td>0</td>\n",
       "      <td>[OF]</td>\n",
       "      <td>[Rockford Forest Citys]</td>\n",
       "    </tr>\n",
       "    <tr>\n",
       "      <th>1</th>\n",
       "      <td>1871</td>\n",
       "      <td>Al Pratt</td>\n",
       "      <td>35</td>\n",
       "      <td>735</td>\n",
       "      <td>25</td>\n",
       "      <td>44</td>\n",
       "      <td>10</td>\n",
       "      <td>[OF, P]</td>\n",
       "      <td>[Cleveland Forest Citys]</td>\n",
       "    </tr>\n",
       "    <tr>\n",
       "      <th>2</th>\n",
       "      <td>1871</td>\n",
       "      <td>Al Reach</td>\n",
       "      <td>26</td>\n",
       "      <td>708</td>\n",
       "      <td>83</td>\n",
       "      <td>68</td>\n",
       "      <td>28</td>\n",
       "      <td>[2B]</td>\n",
       "      <td>[Philadelphia Athletics]</td>\n",
       "    </tr>\n",
       "  </tbody>\n",
       "</table>\n",
       "</div>"
      ],
      "text/plain": [
       "   year     player  games_played  innings_played_in_outs  putouts  assists  \\\n",
       "0  1871  Al Barker             1                      27        2        0   \n",
       "1  1871   Al Pratt            35                     735       25       44   \n",
       "2  1871   Al Reach            26                     708       83       68   \n",
       "\n",
       "   errors field_positions                     teams  \n",
       "0       0            [OF]   [Rockford Forest Citys]  \n",
       "1      10         [OF, P]  [Cleveland Forest Citys]  \n",
       "2      28            [2B]  [Philadelphia Athletics]  "
      ]
     },
     "execution_count": 141,
     "metadata": {},
     "output_type": "execute_result"
    }
   ],
   "source": [
    "fielding_df.head(3)"
   ]
  },
  {
   "cell_type": "markdown",
   "metadata": {},
   "source": [
    "### Save the tables to files:"
   ]
  },
  {
   "cell_type": "code",
   "execution_count": 203,
   "metadata": {},
   "outputs": [],
   "source": [
    "batting_df.to_csv('data/batting.csv', index=False)\n",
    "pitching_df.to_csv('data/pitching.csv', index=False)\n",
    "fielding_df.to_csv('data/fielding.csv', index=False)"
   ]
  },
  {
   "cell_type": "markdown",
   "metadata": {},
   "source": [
    "### Load the table from files:"
   ]
  },
  {
   "cell_type": "code",
   "execution_count": 31,
   "metadata": {},
   "outputs": [],
   "source": [
    "batting_data = pd.read_csv('data/batting.csv')\n",
    "pitching_data = pd.read_csv('data/pitching.csv')"
   ]
  },
  {
   "cell_type": "markdown",
   "metadata": {},
   "source": []
  },
  {
   "cell_type": "code",
   "execution_count": 106,
   "metadata": {},
   "outputs": [],
   "source": [
    "filtered_batting = batting_final.groupby('player').filter(lambda x: len(x) > 15)\n",
    "filtered_pitching = pitching_final.groupby('player').filter(lambda x: len(x) > 15)\n",
    "filtered_batting.to_csv('data/batting_f.csv', index=False)\n",
    "filtered_pitching.to_csv('data/pitching_f.csv', index=False)"
   ]
  },
  {
   "cell_type": "code",
   "execution_count": 107,
   "metadata": {},
   "outputs": [],
   "source": [
    "batting_data = pd.read_csv('data/batting_f.csv')\n",
    "pitching_data = pd.read_csv('data/pitching_f.csv')"
   ]
  },
  {
   "cell_type": "markdown",
   "metadata": {},
   "source": []
  },
  {
   "cell_type": "code",
   "execution_count": 73,
   "metadata": {},
   "outputs": [
    {
     "data": {
      "text/plain": [
       "'Cincinnati Reds'"
      ]
     },
     "execution_count": 73,
     "metadata": {},
     "output_type": "execute_result"
    }
   ],
   "source": [
    "filtered_batting['teams'].iloc[59][1]"
   ]
  },
  {
   "cell_type": "code",
   "execution_count": 62,
   "metadata": {},
   "outputs": [],
   "source": [
    "filtered_players = filtered_pitching['player'].unique()"
   ]
  },
  {
   "cell_type": "code",
   "execution_count": 63,
   "metadata": {},
   "outputs": [
    {
     "data": {
      "text/plain": [
       "264"
      ]
     },
     "execution_count": 63,
     "metadata": {},
     "output_type": "execute_result"
    }
   ],
   "source": [
    "filtered_players.size"
   ]
  },
  {
   "cell_type": "code",
   "execution_count": 148,
   "metadata": {},
   "outputs": [
    {
     "data": {
      "text/plain": [
       "count    4863.000000\n",
       "mean     1972.369114\n",
       "std        30.357497\n",
       "min      1884.000000\n",
       "25%      1954.000000\n",
       "50%      1978.000000\n",
       "75%      1997.000000\n",
       "max      2022.000000\n",
       "Name: year, dtype: float64"
      ]
     },
     "execution_count": 148,
     "metadata": {},
     "output_type": "execute_result"
    }
   ],
   "source": [
    "filtered_pitching['year'].describe()"
   ]
  },
  {
   "cell_type": "code",
   "execution_count": null,
   "metadata": {},
   "outputs": [],
   "source": []
  }
 ],
 "metadata": {
  "kernelspec": {
   "display_name": "Python 3 (ipykernel)",
   "language": "python",
   "name": "python3"
  },
  "language_info": {
   "codemirror_mode": {
    "name": "ipython",
    "version": 3
   },
   "file_extension": ".py",
   "mimetype": "text/x-python",
   "name": "python",
   "nbconvert_exporter": "python",
   "pygments_lexer": "ipython3",
   "version": "3.9.16"
  }
 },
 "nbformat": 4,
 "nbformat_minor": 1
}
